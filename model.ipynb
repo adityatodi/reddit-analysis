{
 "cells": [
  {
   "cell_type": "markdown",
   "id": "222c62b3-7041-44fa-9771-c5f22f411ffd",
   "metadata": {
    "jp-MarkdownHeadingCollapsed": true
   },
   "source": [
    "# Setup"
   ]
  },
  {
   "cell_type": "code",
   "execution_count": 1,
   "id": "857372ca-c0e7-4c7a-97bd-bbb4dd6cf989",
   "metadata": {},
   "outputs": [],
   "source": [
    "import os\n",
    "import gc\n",
    "import re\n",
    "\n",
    "from sklearn.model_selection import train_test_split\n",
    "import time\n",
    "import numpy as np\n",
    "import pandas as pd\n",
    "import matplotlib.pyplot as plt\n",
    "from colored import fg, bg, attr\n",
    "\n",
    "from tqdm import tqdm\n",
    "\n",
    "import plotly.express as px\n",
    "import plotly.graph_objects as go\n",
    "import plotly.figure_factory as ff\n",
    "from plotly.subplots import make_subplots\n",
    "\n",
    "import torch\n",
    "import torch.nn as nn\n",
    "from transformers import AdamW, get_linear_schedule_with_warmup\n",
    "from torch.optim.lr_scheduler import ReduceLROnPlateau\n",
    "\n",
    "from torch.multiprocessing import Pipe, Process\n",
    "from torch.utils.data import Dataset, DataLoader\n",
    "from torch.utils.data.distributed import DistributedSampler\n",
    "\n",
    "from tqdm.notebook import tqdm\n",
    "from sklearn.utils import shuffle\n",
    "from transformers import RobertaModel, RobertaTokenizer\n",
    "\n",
    "from keras.utils import to_categorical\n",
    "from sklearn.metrics import accuracy_score\n",
    "from sklearn.metrics import precision_recall_fscore_support as score\n",
    "\n",
    "from imblearn.over_sampling import RandomOverSampler\n",
    "from transformers import AdamW, get_linear_schedule_with_warmup\n",
    "from datetime import datetime\n",
    "\n",
    "from nltk.sentiment.vader import SentimentIntensityAnalyzer\n",
    "\n",
    "from sklearn.model_selection import train_test_split\n",
    "from torch.utils.data import TensorDataset, DataLoader, RandomSampler, SequentialSampler\n",
    "from transformers import AutoTokenizer \n",
    "\n",
    "import torch\n",
    "import torch.nn as nn\n",
    "from transformers import AutoModel\n",
    "\n",
    "import random\n",
    "import time\n",
    "\n",
    "import seaborn as sns\n",
    "from sklearn.metrics import confusion_matrix\n",
    "import torch.nn.functional as F"
   ]
  },
  {
   "cell_type": "code",
   "execution_count": 2,
   "id": "42faf725-ed7e-4507-988d-553bc6fd1bf1",
   "metadata": {},
   "outputs": [],
   "source": [
    "hdf = pd.read_csv('happy_submissions.csv')\n",
    "sdf = pd.read_csv('sad_submissions.csv')"
   ]
  },
  {
   "cell_type": "code",
   "execution_count": 3,
   "id": "5b57cad4-21d7-4735-845f-bdaaf38b908e",
   "metadata": {},
   "outputs": [
    {
     "data": {
      "text/plain": [
       "author         0.00000\n",
       "title          0.00001\n",
       "created_utc    0.00000\n",
       "score          0.00000\n",
       "dtype: float64"
      ]
     },
     "execution_count": 3,
     "metadata": {},
     "output_type": "execute_result"
    }
   ],
   "source": [
    "sdf.isna().mean()"
   ]
  },
  {
   "cell_type": "code",
   "execution_count": 4,
   "id": "57b57ec6-f361-438d-a19a-af6e939829b0",
   "metadata": {},
   "outputs": [],
   "source": [
    "sdf.dropna(inplace=True)"
   ]
  },
  {
   "cell_type": "code",
   "execution_count": 5,
   "id": "a4d264e3-dd29-436d-b8cf-5684f7fd2fe8",
   "metadata": {},
   "outputs": [],
   "source": [
    "#Create a function to clean the tweets\n",
    "def cleanTxt(text):\n",
    " text = re.sub(r'@[A-Za-z0–9]+', '', text) #Remove @mentions replace with blank\n",
    " text = re.sub(r'#', '', text) #Remove the '#' symbol, replace with blank\n",
    " text = re.sub(r'RT[\\s]+', '', text) #Removing RT, replace with blank\n",
    " text = re.sub(r'https?:\\/\\/\\S+', '', text) #Remove the hyperlinks\n",
    " text = re.sub(r':', '', text) # Remove :\n",
    " return text\n",
    "#Cleaning the text\n",
    "sdf['title']= sdf['title'].apply(cleanTxt)\n",
    "hdf['title']= hdf['title'].apply(cleanTxt)"
   ]
  },
  {
   "cell_type": "code",
   "execution_count": 6,
   "id": "1af3f6ef-ea87-4395-8829-e8d62914198a",
   "metadata": {},
   "outputs": [],
   "source": [
    "#Next we have to remove emoji & Unicode from the Tweet data.\n",
    "def remove_emoji(string):\n",
    " emoji_pattern = re.compile(\"[\"\n",
    " u\"\\U0001F600-\\U0001F64F\" # emoticons\n",
    " u\"\\U0001F300-\\U0001F5FF\" # symbols & pictographs\n",
    " u\"\\U0001F680-\\U0001F6FF\" # transport & map symbols\n",
    " u\"\\U0001F1E0-\\U0001F1FF\" # flags (iOS)\n",
    " u\"\\U00002500-\\U00002BEF\" # chinese char\n",
    " u\"\\U00002702-\\U000027B0\"\n",
    " u\"\\U00002702-\\U000027B0\"\n",
    " u\"\\U000024C2-\\U0001F251\"\n",
    " u\"\\U0001f926-\\U0001f937\"\n",
    " u\"\\U00010000-\\U0010ffff\"\n",
    " u\"\\u2640-\\u2642\"\n",
    " u\"\\u2600-\\u2B55\"\n",
    " u\"\\u200d\"\n",
    " u\"\\u23cf\"\n",
    " u\"\\u23e9\"\n",
    " u\"\\u231a\"\n",
    " u\"\\ufe0f\" # dingbats\n",
    " u\"\\u3030\"\n",
    " \"]+\", flags=re.UNICODE)\n",
    " return emoji_pattern.sub(r'', string)\n",
    "#Cleaning the text\n",
    "sdf['title']= sdf['title'].apply(remove_emoji)\n",
    "hdf['title']= hdf['title'].apply(remove_emoji)"
   ]
  },
  {
   "cell_type": "code",
   "execution_count": 7,
   "id": "64acc0e2-05f7-445b-8e71-c531b062d21c",
   "metadata": {},
   "outputs": [],
   "source": [
    "sdf = sdf[~(sdf.title == '[deleted by user]')]\n",
    "hdf = hdf[~(hdf.title == '[deleted by user]')]"
   ]
  },
  {
   "cell_type": "code",
   "execution_count": 8,
   "id": "779e313c-4c21-4495-baf5-9979e9a6ab12",
   "metadata": {},
   "outputs": [],
   "source": [
    "analyzer = SentimentIntensityAnalyzer()\n",
    "\n",
    "def vader_sentiment_result(sent):\n",
    "    scores = analyzer.polarity_scores(sent)\n",
    "    \n",
    "    if scores[\"neg\"] > scores[\"pos\"]:\n",
    "        return 0\n",
    "    if scores[\"neg\"] == scores[\"pos\"]:\n",
    "        return 1\n",
    "\n",
    "    return 2\n",
    "\n",
    "sdf[\"sentiment\"] = sdf[\"title\"].apply(lambda x: vader_sentiment_result(x))\n",
    "hdf[\"sentiment\"] = hdf[\"title\"].apply(lambda x: vader_sentiment_result(x))"
   ]
  },
  {
   "cell_type": "code",
   "execution_count": 9,
   "id": "4ea1078c-e17e-4817-b40c-c5763f64390c",
   "metadata": {},
   "outputs": [
    {
     "data": {
      "text/plain": [
       "sentiment\n",
       "2    62723\n",
       "1    24797\n",
       "0    11215\n",
       "Name: count, dtype: int64"
      ]
     },
     "execution_count": 9,
     "metadata": {},
     "output_type": "execute_result"
    }
   ],
   "source": [
    "hdf['sentiment'].value_counts()"
   ]
  },
  {
   "cell_type": "code",
   "execution_count": 10,
   "id": "0713ac94-a5fb-439a-a750-c221bcc0b8dc",
   "metadata": {},
   "outputs": [
    {
     "data": {
      "text/plain": [
       "sentiment\n",
       "0    42698\n",
       "1    29164\n",
       "2    22872\n",
       "Name: count, dtype: int64"
      ]
     },
     "execution_count": 10,
     "metadata": {},
     "output_type": "execute_result"
    }
   ],
   "source": [
    "sdf['sentiment'].value_counts()"
   ]
  },
  {
   "cell_type": "code",
   "execution_count": 11,
   "id": "382d3909-5138-4dd4-8225-9c5719b146a0",
   "metadata": {},
   "outputs": [],
   "source": [
    "neutral_sentiment = pd.concat([hdf[hdf['sentiment'] == 1], sdf[sdf['sentiment'] == 1]])\n",
    "positive_sentiment = hdf[hdf['sentiment'] == 2]\n",
    "negative_sentiment = sdf[sdf['sentiment'] == 0]\n",
    "\n",
    "df = pd.concat([positive_sentiment, negative_sentiment, neutral_sentiment])"
   ]
  },
  {
   "cell_type": "code",
   "execution_count": 12,
   "id": "9d0587ab-03cb-4a68-a52e-159e3f39efc5",
   "metadata": {},
   "outputs": [],
   "source": [
    "# Rename sentiment labels\n",
    "sentiment_labels = {0: 'negative', 1: 'neutral', 2: 'positive'}\n",
    "hdf['sentiment'] = hdf['sentiment'].map(sentiment_labels)\n",
    "sdf['sentiment'] = sdf['sentiment'].map(sentiment_labels)"
   ]
  },
  {
   "cell_type": "code",
   "execution_count": 13,
   "id": "1b226685-f41b-4138-b36d-5164e37f3a87",
   "metadata": {},
   "outputs": [],
   "source": [
    "# Count the values in each sentiment category for both data frames\n",
    "hdf_counts = hdf['sentiment'].value_counts()\n",
    "sdf_counts = sdf['sentiment'].value_counts()"
   ]
  },
  {
   "cell_type": "code",
   "execution_count": 14,
   "id": "1a92bb0b-0678-40aa-ad29-39daf184eeb9",
   "metadata": {},
   "outputs": [],
   "source": [
    "# Count the values in each sentiment category for both data frames\n",
    "hdf_counts = hdf['sentiment'].value_counts()\n",
    "sdf_counts = sdf['sentiment'].value_counts()\n",
    "\n",
    "positive_counts = {\"positive_subreddit\":hdf_counts['positive'], \"negative_subreddit\":sdf_counts['positive']}\n",
    "neutral_counts = {\"positive_subreddit\":hdf_counts['neutral'], \"negative_subreddit\":sdf_counts['neutral']}\n",
    "negative_counts = {\"positive_subreddit\":hdf_counts['negative'], \"negative_subreddit\":sdf_counts['negative']}"
   ]
  },
  {
   "cell_type": "code",
   "execution_count": 15,
   "id": "221b129f-936f-43a9-b6f0-45d47ec10cfd",
   "metadata": {},
   "outputs": [
    {
     "data": {
      "image/png": "[encoded data removed]",
      "text/plain": [
       "<Figure size 640x480 with 1 Axes>"
      ]
     },
     "metadata": {},
     "output_type": "display_data"
    }
   ],
   "source": [
    "# Create the stacked bar graph\n",
    "subreddits = ['r/happy', 'r/sad']\n",
    "width = 0.35\n",
    "x = range(len(subreddits))\n",
    "\n",
    "fig, ax = plt.subplots()\n",
    "\n",
    "bar1 = ax.bar(x, positive_counts.values(), width, label='positive_subreddit')\n",
    "bar2 = ax.bar(x, neutral_counts.values(), width, label='neutral_subreddit', bottom=np.array(list(positive_counts.values())))\n",
    "bar3 = ax.bar(x, negative_counts.values(), width, label='negative_subreddit', bottom=np.array(list(positive_counts.values())) + np.array(list(neutral_counts.values())))\n",
    "\n",
    "# Add labels, title, and legend\n",
    "ax.set_xlabel('Subreddits')\n",
    "ax.set_ylabel('Count')\n",
    "ax.set_title('Bar Graph of Sentiment Values in positive and negative subreddits')\n",
    "ax.set_xticks(x)\n",
    "ax.set_xticklabels(subreddits)\n",
    "ax.legend()\n",
    "\n",
    "# Show the graph\n",
    "plt.savefig('sentiments_pos_neg_neut.png')\n",
    "plt.show()"
   ]
  },
  {
   "cell_type": "code",
   "execution_count": 16,
   "id": "c6dc17d8-3437-4f00-b3cc-c33c1e04e537",
   "metadata": {},
   "outputs": [
    {
     "data": {
      "image/png": "[encoded data removed]",
      "text/plain": [
       "<Figure size 640x480 with 1 Axes>"
      ]
     },
     "metadata": {},
     "output_type": "display_data"
    }
   ],
   "source": [
    "# Create the stacked bar graph\n",
    "width = 0.35\n",
    "x = range(len(subreddits))\n",
    "\n",
    "fig, ax = plt.subplots()\n",
    "\n",
    "bar1 = ax.bar(x, positive_counts.values(), width, label='positive_subreddit')\n",
    "bar3 = ax.bar(x, negative_counts.values(), width, label='negative_subreddit', bottom=np.array(list(positive_counts.values())))\n",
    "\n",
    "# Add labels, title, and legend\n",
    "ax.set_xlabel('Subreddits')\n",
    "ax.set_ylabel('Count')\n",
    "ax.set_title('Bar Graph of Sentiment Values in positive and negative subreddits')\n",
    "ax.set_xticks(x)\n",
    "ax.set_xticklabels(subreddits)\n",
    "ax.legend()\n",
    "\n",
    "# Show the graph\n",
    "plt.savefig('sentiments_pos_neg.png')\n",
    "plt.show()"
   ]
  },
  {
   "cell_type": "code",
   "execution_count": 17,
   "id": "f677e7a9-4fd3-47ef-b2bf-1998035a9cca",
   "metadata": {},
   "outputs": [
    {
     "data": {
      "text/plain": [
       "Text(0.5, 1.0, '# of samples per label class')"
      ]
     },
     "execution_count": 17,
     "metadata": {},
     "output_type": "execute_result"
    },
    {
     "data": {
      "image/png": "[encoded data removed]",
      "text/plain": [
       "<Figure size 640x480 with 1 Axes>"
      ]
     },
     "metadata": {},
     "output_type": "display_data"
    }
   ],
   "source": [
    "label_count = df['sentiment'].value_counts()\n",
    "\n",
    "senti = label_count.keys().map({0:\"Negative\",1:\"Neutral\", 2:\"Positive\"})\n",
    "counts = list(label_count.values)\n",
    "\n",
    "plt.bar(senti, counts, color ='maroon', width = 0.4)\n",
    "plt.xlabel(\"Label Classes\")\n",
    "plt.ylabel(\"# of Samples\")\n",
    "plt.title(\"# of samples per label class\")"
   ]
  },
  {
   "cell_type": "markdown",
   "id": "52275696-99db-4b97-9030-15dcf467c8db",
   "metadata": {},
   "source": [
    "# Sentiment Analysis"
   ]
  },
  {
   "cell_type": "markdown",
   "id": "8eb39e33-bccd-4eca-bc12-336544ffbb93",
   "metadata": {
    "jp-MarkdownHeadingCollapsed": true
   },
   "source": [
    "### Training and Model declaration"
   ]
  },
  {
   "cell_type": "code",
   "execution_count": 18,
   "id": "0ff29188-9e40-4d8c-bf47-062412cd5d22",
   "metadata": {},
   "outputs": [],
   "source": [
    "MODEL_PATH_ROOT = 'reddit_sentiment'\n",
    "MAX_LEN = 256"
   ]
  },
  {
   "cell_type": "code",
   "execution_count": 19,
   "id": "f8a25e5b-da19-46f2-bc15-069354ddb8cf",
   "metadata": {},
   "outputs": [
    {
     "name": "stdout",
     "output_type": "stream",
     "text": [
      "There is MPS available.\n"
     ]
    }
   ],
   "source": [
    "if torch.backends.mps.is_available():       \n",
    "    device = torch.device(\"mps\")\n",
    "    print(f'There is MPS available.')\n",
    "else:\n",
    "    print('No GPU available, using the CPU instead.')\n",
    "    device = torch.device(\"cpu\")"
   ]
  },
  {
   "cell_type": "code",
   "execution_count": 25,
   "id": "3e72dcb9-2136-461f-9d7c-639947b3ade6",
   "metadata": {},
   "outputs": [],
   "source": [
    "# Create a function to tokenize a set of texts\n",
    "def preprocessing_for_model(data, tokenizer):\n",
    "    # Load the BERT tokenizer\n",
    "    \"\"\"Perform required preprocessing steps for pretrained BERT.\n",
    "    @param    data (np.array): Array of texts to be processed.\n",
    "    @return   input_ids (torch.Tensor): Tensor of token ids to be fed to a model.\n",
    "    @return   attention_masks (torch.Tensor): Tensor of indices specifying which\n",
    "                  tokens should be attended to by the model.\n",
    "    \"\"\"\n",
    "    # Create empty lists to store outputs\n",
    "    input_ids = []\n",
    "    attention_masks = []\n",
    "\n",
    "    # For every sentence...\n",
    "    for sent in data:\n",
    "        # `encode_plus` will:\n",
    "        #    (1) Tokenize the sentence\n",
    "        #    (2) Add the `[CLS]` and `[SEP]` token to the start and end\n",
    "        #    (3) Truncate/Pad sentence to max length\n",
    "        #    (4) Map tokens to their IDs\n",
    "        #    (5) Create attention mask\n",
    "        #    (6) Return a dictionary of outputs\n",
    "        encoded_sent = tokenizer.encode_plus(\n",
    "            text=sent,\n",
    "            add_special_tokens=True,        # Add `[CLS]` and `[SEP]`\n",
    "            max_length=MAX_LEN,             # Max length to truncate/pad\n",
    "            padding='max_length',           # Pad sentence to max length\n",
    "            return_attention_mask=True,     # Return attention mask\n",
    "            truncation=True\n",
    "            )\n",
    "        \n",
    "        # Add the outputs to the lists\n",
    "        input_ids.append(encoded_sent.get('input_ids'))\n",
    "        attention_masks.append(encoded_sent.get('attention_mask'))\n",
    "\n",
    "    # Convert lists to tensors\n",
    "    input_ids = torch.tensor(input_ids)\n",
    "    attention_masks = torch.tensor(attention_masks)\n",
    "\n",
    "    return input_ids, attention_masks\n",
    "\n",
    "def get_data_loaders(df, model_name, max_len=256, batch_size=16):\n",
    "        \n",
    "    df = df.sample(frac=1)\n",
    "    X = df.title.values\n",
    "    y = df.sentiment.values\n",
    "    \n",
    "    X_train, X_val, y_train, y_val = train_test_split(X, y, test_size=0.1, random_state=42)\n",
    "    tokenizer = AutoTokenizer.from_pretrained(model_name)\n",
    "    \n",
    "    # Run function `preprocessing_for_bert` on the train set and the validation set\n",
    "    print('Tokenizing data...')\n",
    "    train_inputs, train_masks = preprocessing_for_model(X_train, tokenizer)\n",
    "    val_inputs, val_masks = preprocessing_for_model(X_val, tokenizer)\n",
    "    \n",
    "    # Convert other data types to torch.Tensor\n",
    "    train_labels = torch.tensor(y_train)\n",
    "    val_labels = torch.tensor(y_val)\n",
    "    \n",
    "    # Create the DataLoader for our training set\n",
    "    train_data = TensorDataset(train_inputs, train_masks, train_labels)\n",
    "    train_sampler = RandomSampler(train_data)\n",
    "    train_dataloader = DataLoader(train_data, sampler=train_sampler, batch_size=batch_size)\n",
    "    \n",
    "    # Create the DataLoader for our validation set\n",
    "    val_data = TensorDataset(val_inputs, val_masks, val_labels)\n",
    "    val_sampler = SequentialSampler(val_data)\n",
    "    val_dataloader = DataLoader(val_data, sampler=val_sampler, batch_size=batch_size)\n",
    "\n",
    "    return train_dataloader, val_dataloader, y_val"
   ]
  },
  {
   "cell_type": "code",
   "execution_count": 26,
   "id": "3e34280a-0677-4cb8-a76b-07bbc13e9124",
   "metadata": {},
   "outputs": [
    {
     "name": "stdout",
     "output_type": "stream",
     "text": [
      "CPU times: user 125 µs, sys: 1 µs, total: 126 µs\n",
      "Wall time: 133 µs\n"
     ]
    }
   ],
   "source": [
    "%%time\n",
    "# Create the Classifier class\n",
    "class Classifier(nn.Module):\n",
    "    \"\"\"RoBerta Model for Classification Tasks.\n",
    "    \"\"\"\n",
    "    def __init__(self, model_name, hidden_layer_size=768, freeze_model=False):\n",
    "        \"\"\"\n",
    "        @param    model_name (string): model name as stored on hugging face\n",
    "        @param    hidden_layer_size: size of the hidden layers for that model\n",
    "        @param    freeze_bert (bool): Set `False` to fine-tune the BERT model\n",
    "        \"\"\"\n",
    "        super(Classifier, self).__init__()\n",
    "        # Specify hidden size of model, hidden size of classifier, and number of labels\n",
    "        D_in, H, D_out = hidden_layer_size, 50, 3\n",
    "\n",
    "        # Instantiate model\n",
    "        self.model = AutoModel.from_pretrained(model_name)\n",
    "\n",
    "        # Instantiate an one-layer feed-forward classifier\n",
    "        self.classifier = nn.Sequential(\n",
    "            nn.Linear(D_in, H),\n",
    "            nn.ReLU(),\n",
    "            #nn.Dropout(0.5),\n",
    "            nn.Linear(H, D_out)\n",
    "        )\n",
    "\n",
    "        # Freeze the model\n",
    "        if freeze_model:\n",
    "            for param in self.model.parameters():\n",
    "                param.requires_grad = False\n",
    "        \n",
    "    def forward(self, input_ids, attention_mask):\n",
    "        \"\"\"\n",
    "        Feed input to BERT and the classifier to compute logits.\n",
    "        @param    input_ids (torch.Tensor): an input tensor with shape (batch_size,\n",
    "                      max_length)\n",
    "        @param    attention_mask (torch.Tensor): a tensor that hold attention mask\n",
    "                      information with shape (batch_size, max_length)\n",
    "        @return   logits (torch.Tensor): an output tensor with shape (batch_size,\n",
    "                      num_labels)\n",
    "        \"\"\"\n",
    "        # Feed input to model\n",
    "        outputs = self.model(input_ids=input_ids,\n",
    "                            attention_mask=attention_mask)\n",
    "        \n",
    "        # Extract the last hidden state of the token `[CLS]` for classification task\n",
    "        last_hidden_state_cls = outputs[0][:, 0, :]\n",
    "\n",
    "        # Feed input to classifier to compute logits\n",
    "        logits = self.classifier(last_hidden_state_cls)\n",
    "\n",
    "        return logits"
   ]
  },
  {
   "cell_type": "code",
   "execution_count": 27,
   "id": "cd7067ef-86b5-4d9a-8da4-2a096223e656",
   "metadata": {},
   "outputs": [],
   "source": [
    "def initialize_model(model_name, hidden_layer_size, learning_rate=5e-5, epochs=4):\n",
    "    \"\"\"Initialize the Bert Classifier, the optimizer and the learning rate scheduler.\n",
    "    \"\"\"\n",
    "    # Instantiate Bert Classifier\n",
    "    classifier = Classifier(model_name, hidden_layer_size, freeze_model=False)\n",
    "\n",
    "    # Tell PyTorch to run the model on GPU\n",
    "    classifier.to(device)\n",
    "\n",
    "    # Create the optimizer\n",
    "    optimizer = AdamW(classifier.parameters(),\n",
    "                      lr=learning_rate,    # Default learning rate\n",
    "                      eps=1e-8    # Default epsilon value\n",
    "                      )\n",
    "\n",
    "    # Total number of training steps\n",
    "    total_steps = len(train_dataloader) * epochs\n",
    "\n",
    "    # Set up the learning rate scheduler\n",
    "    scheduler = get_linear_schedule_with_warmup(optimizer,\n",
    "                                                num_warmup_steps=0, # Default value\n",
    "                                                num_training_steps=total_steps)\n",
    "    return classifier, optimizer, scheduler"
   ]
  },
  {
   "cell_type": "code",
   "execution_count": 28,
   "id": "2e72f7e9-f5d3-4b0b-bc4c-cb867706443b",
   "metadata": {},
   "outputs": [],
   "source": [
    "# Specify loss function\n",
    "loss_fn = nn.CrossEntropyLoss()\n",
    "def set_seed(seed_value=42):\n",
    "    \"\"\"Set seed for reproducibility.\n",
    "    \"\"\"\n",
    "    random.seed(seed_value)\n",
    "    np.random.seed(seed_value)\n",
    "    torch.manual_seed(seed_value)\n",
    "    torch.cuda.manual_seed_all(seed_value)\n",
    "def train(model, train_dataloader, val_dataloader=None, epochs=4, evaluation=False):\n",
    "    \"\"\"Train the Classifier model.\n",
    "        \"\"\"\n",
    "    # Start training loop\n",
    "    print(f\"Start training with total batches {len(train_dataloader)}\\n\")\n",
    "    for epoch_i in range(epochs):\n",
    "        # =======================================\n",
    "        #               Training\n",
    "        # =======================================\n",
    "        # Print the header of the result table\n",
    "        print(f\"{'Epoch':^7} | {'Batch':^7} | {'Train Loss':^12} | {'Val Loss':^10} | {'Val Acc':^9} | {'Elapsed':^9}\")\n",
    "        print(\"-\"*70)\n",
    "        # Measure the elapsed time of each epoch\n",
    "        t0_epoch, t0_batch = time.time(), time.time()\n",
    "        # Reset tracking variables at the beginning of each epoch\n",
    "        total_loss, batch_loss, batch_counts = 0, 0, 0\n",
    "        # Put the model into the training mode\n",
    "        model.train()\n",
    "        # For each batch of training data...\n",
    "        for step, batch in enumerate(tqdm(train_dataloader)):\n",
    "            batch_counts +=1\n",
    "            # Load batch to GPU\n",
    "            b_input_ids, b_attn_mask, b_labels = tuple(t.to(device) for t in batch)\n",
    "            # Zero out any previously calculated gradients\n",
    "            model.zero_grad()\n",
    "            # Perform a forward pass. This will return logits.\n",
    "            logits = model(b_input_ids, b_attn_mask)\n",
    "            # Compute loss and accumulate the loss values\n",
    "            loss = loss_fn(logits, b_labels)\n",
    "            batch_loss += loss.item()\n",
    "            total_loss += loss.item()\n",
    "            # Perform a backward pass to calculate gradients\n",
    "            loss.backward()\n",
    "            # Clip the norm of the gradients to 1.0 to prevent \"exploding gradients\"\n",
    "            torch.nn.utils.clip_grad_norm_(model.parameters(), 1.0)\n",
    "            # Update parameters and the learning rate\n",
    "            optimizer.step()\n",
    "            scheduler.step()\n",
    "            # Print the loss values and time elapsed for every 20 batches\n",
    "            if (step % 200 == 0 and step != 0) or (step == len(train_dataloader) - 1):\n",
    "                # Calculate time elapsed for 20 batches\n",
    "                time_elapsed = time.time() - t0_batch\n",
    "                # Print training results\n",
    "                print(f\"{epoch_i + 1:^7} | {step:^7} | {batch_loss / batch_counts:^12.6f} | {'-':^10} | {'-':^9} | {time_elapsed:^9.2f}\")\n",
    "    \n",
    "        # Reset batch tracking variables\n",
    "        batch_loss, batch_counts = 0, 0\n",
    "        t0_batch = time.time()\n",
    "        # Calculate the average loss over the entire training data\n",
    "        avg_train_loss = total_loss / len(train_dataloader)\n",
    "        print(\"-\"*70)\n",
    "        # =======================================\n",
    "        #               Evaluation\n",
    "        # =======================================\n",
    "        if evaluation == True:\n",
    "            # After the completion of each training epoch, measure the model's performance\n",
    "            # on our validation set.\n",
    "            val_loss, val_accuracy = evaluate(model, val_dataloader)\n",
    "            # Print performance over the entire training data\n",
    "            time_elapsed = time.time() - t0_epoch\n",
    "            print(f\"{epoch_i + 1:^7} | {'-':^7} | {avg_train_loss:^12.6f} | {val_loss:^10.6f} | {val_accuracy:^9.2f} | {time_elapsed:^9.2f}\")\n",
    "            print(\"-\"*70)\n",
    "            print(\"\\n\")\n",
    "\n",
    "    print(\"Training complete!\")\n",
    "    torch.save(model.state_dict(), MODEL_SAVE_PATH)\n",
    "        \n",
    "def evaluate(model, val_dataloader):\n",
    "    \"\"\"After the completion of each training epoch, measure the model's performance\n",
    "        on our validation set.\n",
    "        \"\"\"\n",
    "    # Put the model into the evaluation mode. The dropout layers are disabled during\n",
    "    # the test time.\n",
    "    model.eval()\n",
    "    # Tracking variables\n",
    "    val_accuracy = []\n",
    "    val_loss = []\n",
    "    # For each batch in our validation set...\n",
    "    for batch in val_dataloader:\n",
    "        # Load batch to GPU\n",
    "        b_input_ids, b_attn_mask, b_labels = tuple(t.to(device) for t in batch)\n",
    "        # Compute logits\n",
    "        with torch.no_grad():\n",
    "            logits = model(b_input_ids, b_attn_mask)\n",
    "            # Compute loss\n",
    "            loss = loss_fn(logits, b_labels)\n",
    "            val_loss.append(loss.item())\n",
    "            # Get the predictions\n",
    "            preds = torch.argmax(logits, dim=1).flatten()\n",
    "            # Calculate the accuracy rate\n",
    "            accuracy = (preds == b_labels).cpu().numpy().mean() * 100\n",
    "            val_accuracy.append(accuracy)\n",
    "    # Compute the average accuracy and loss over the validation set.\n",
    "    val_loss = np.mean(val_loss)\n",
    "    val_accuracy = np.mean(val_accuracy)\n",
    "    return val_loss, val_accuracy"
   ]
  },
  {
   "cell_type": "code",
   "execution_count": 29,
   "id": "357f2ac6-92c7-4da1-9765-b7b7d70272c1",
   "metadata": {},
   "outputs": [],
   "source": [
    "def model_predict(model, test_dataloader):\n",
    "    \"\"\"Perform a forward pass on the trained BERT model to predict probabilities\n",
    "    on the test set.\n",
    "    \"\"\"\n",
    "    # Put the model into the evaluation mode. The dropout layers are disabled during\n",
    "    # the test time.\n",
    "    model.eval()\n",
    "    all_logits = []\n",
    "    # For each batch in our test set...\n",
    "    for batch in test_dataloader:\n",
    "        # Load batch to GPU\n",
    "        b_input_ids, b_attn_mask = tuple(t.to(device) for t in batch)[:2]\n",
    "        # Compute logits\n",
    "        with torch.no_grad():\n",
    "            logits = model(b_input_ids, b_attn_mask)\n",
    "            all_logits.append(logits)\n",
    "        # Concatenate logits from each batch\n",
    "    all_logits = torch.cat(all_logits, dim=0)\n",
    "    # Apply softmax to calculate probabilities\n",
    "    probs = F.softmax(all_logits, dim=1).cpu().numpy()\n",
    "    return np.argmax(probs, axis=1)"
   ]
  },
  {
   "cell_type": "code",
   "execution_count": 30,
   "id": "1b3d11d8-2170-486c-9e08-79fb7c85faa2",
   "metadata": {},
   "outputs": [],
   "source": [
    "# Compute predicted probabilities on the test set\n",
    "def display_confusion_matrix(y_pred, y_val):\n",
    "\n",
    "    # Creating  a confusion matrix,which compares the y_test and y_pred\n",
    "    cm = confusion_matrix(y_val, y_pred)\n",
    "\n",
    "    cm_df = pd.DataFrame(cm,\n",
    "                        index = ['NEGATIVE','NEUTRAL','POSITIVE'], \n",
    "                        columns = ['NEGATIVE','NEUTRAL','POSITIVE'])\n",
    "\n",
    "    #Plotting the confusion matrix\n",
    "    plt.figure(figsize=(5,4))\n",
    "    sns.heatmap(cm_df, annot=True, fmt=',d')\n",
    "    plt.title('Confusion Matrix')\n",
    "    plt.ylabel('Actal Values')\n",
    "    plt.xlabel('Predicted Values')\n",
    "    plt.show()"
   ]
  },
  {
   "cell_type": "code",
   "execution_count": null,
   "id": "b1385e90-b012-4f6f-b7fd-57237290b9c6",
   "metadata": {},
   "outputs": [],
   "source": [
    "ros = RandomOverSampler()\n",
    "train_x, train_y = ros.fit_resample(np.array(df['title']).reshape(-1, 1), np.array(df['sentiment']).reshape(-1, 1));\n",
    "df_balanced = pd.DataFrame(list(zip([x[0] for x in train_x], train_y)), columns = ['title', 'sentiment']);\n",
    "df_balanced = df_balanced.sample(frac=1)"
   ]
  },
  {
   "cell_type": "code",
   "execution_count": null,
   "id": "483d5928-235a-43cd-9c1e-5ea5a33359a0",
   "metadata": {},
   "outputs": [],
   "source": [
    "df_balanced['sentiment'].value_counts()"
   ]
  },
  {
   "cell_type": "markdown",
   "id": "96dbb244-c364-4ebe-a5b7-89f11694f8ff",
   "metadata": {},
   "source": [
    "## Modeling with class Imbalance"
   ]
  },
  {
   "cell_type": "markdown",
   "id": "bcf5db9b-54d0-4572-a3a3-36d172c7cc6c",
   "metadata": {},
   "source": [
    "### Bert (unbalanced-class)"
   ]
  },
  {
   "cell_type": "markdown",
   "id": "9d3a6ddd-b4ac-43fc-a4ed-15449d322188",
   "metadata": {
    "jp-MarkdownHeadingCollapsed": true
   },
   "source": [
    "#### Training"
   ]
  },
  {
   "cell_type": "code",
   "execution_count": 235,
   "id": "f4ff45e8-475f-4fb6-a019-392ce5d4a197",
   "metadata": {},
   "outputs": [
    {
     "name": "stdout",
     "output_type": "stream",
     "text": [
      "Tokenizing data...\n",
      "Start training with total batches 8966\n",
      "\n",
      " Epoch  |  Batch  |  Train Loss  |  Val Loss  |  Val Acc  |  Elapsed \n",
      "----------------------------------------------------------------------\n"
     ]
    },
    {
     "name": "stderr",
     "output_type": "stream",
     "text": [
      "/Users/adityatodi/miniforge3/envs/ds_proj/lib/python3.11/site-packages/transformers/optimization.py:411: FutureWarning: This implementation of AdamW is deprecated and will be removed in a future version. Use the PyTorch implementation torch.optim.AdamW instead, or set `no_deprecation_warning=True` to disable this warning\n",
      "  warnings.warn(\n"
     ]
    },
    {
     "data": {
      "application/vnd.jupyter.widget-view+json": {
       "model_id": "ef1519f59585454d8a969ca0cc93796b",
       "version_major": 2,
       "version_minor": 0
      },
      "text/plain": [
       "  0%|          | 0/8966 [00:00<?, ?it/s]"
      ]
     },
     "metadata": {},
     "output_type": "display_data"
    },
    {
     "name": "stdout",
     "output_type": "stream",
     "text": [
      "   1    |   200   |   0.503961   |     -      |     -     |  108.39  \n",
      "   1    |   400   |   0.400624   |     -      |     -     |  216.28  \n",
      "   1    |   600   |   0.357340   |     -      |     -     |  325.44  \n",
      "   1    |   800   |   0.322542   |     -      |     -     |  433.82  \n",
      "   1    |  1000   |   0.302279   |     -      |     -     |  542.04  \n",
      "   1    |  1200   |   0.287524   |     -      |     -     |  650.57  \n",
      "   1    |  1400   |   0.273170   |     -      |     -     |  759.39  \n",
      "   1    |  1600   |   0.262905   |     -      |     -     |  868.35  \n",
      "   1    |  1800   |   0.255049   |     -      |     -     |  977.05  \n",
      "   1    |  2000   |   0.245262   |     -      |     -     |  1085.57 \n",
      "   1    |  2200   |   0.235724   |     -      |     -     |  1194.09 \n",
      "   1    |  2400   |   0.228107   |     -      |     -     |  1302.65 \n",
      "   1    |  2600   |   0.222967   |     -      |     -     |  1411.17 \n",
      "   1    |  2800   |   0.217131   |     -      |     -     |  1519.96 \n",
      "   1    |  3000   |   0.212913   |     -      |     -     |  1628.71 \n",
      "   1    |  3200   |   0.207694   |     -      |     -     |  1737.28 \n",
      "   1    |  3400   |   0.202346   |     -      |     -     |  1845.87 \n",
      "   1    |  3600   |   0.198448   |     -      |     -     |  1954.37 \n",
      "   1    |  3800   |   0.195627   |     -      |     -     |  2062.78 \n",
      "   1    |  4000   |   0.192150   |     -      |     -     |  2171.23 \n",
      "   1    |  4200   |   0.189357   |     -      |     -     |  2279.82 \n",
      "   1    |  4400   |   0.185812   |     -      |     -     |  2388.45 \n",
      "   1    |  4600   |   0.183126   |     -      |     -     |  2497.07 \n",
      "   1    |  4800   |   0.180511   |     -      |     -     |  2605.86 \n",
      "   1    |  5000   |   0.177956   |     -      |     -     |  2714.54 \n",
      "   1    |  5200   |   0.174825   |     -      |     -     |  2823.30 \n",
      "   1    |  5400   |   0.172109   |     -      |     -     |  2932.16 \n",
      "   1    |  5600   |   0.170287   |     -      |     -     |  3040.67 \n",
      "   1    |  5800   |   0.168256   |     -      |     -     |  3149.11 \n",
      "   1    |  6000   |   0.166223   |     -      |     -     |  3257.36 \n",
      "   1    |  6200   |   0.164443   |     -      |     -     |  3365.91 \n",
      "   1    |  6400   |   0.162502   |     -      |     -     |  3475.16 \n",
      "   1    |  6600   |   0.160220   |     -      |     -     |  3584.24 \n",
      "   1    |  6800   |   0.158698   |     -      |     -     |  3693.88 \n",
      "   1    |  7000   |   0.157330   |     -      |     -     |  3802.99 \n",
      "   1    |  7200   |   0.155489   |     -      |     -     |  3911.17 \n",
      "   1    |  7400   |   0.153445   |     -      |     -     |  4019.58 \n",
      "   1    |  7600   |   0.151926   |     -      |     -     |  4127.93 \n",
      "   1    |  7800   |   0.150145   |     -      |     -     |  4236.34 \n",
      "   1    |  8000   |   0.148901   |     -      |     -     |  4344.60 \n",
      "   1    |  8200   |   0.147367   |     -      |     -     |  4453.29 \n",
      "   1    |  8400   |   0.145729   |     -      |     -     |  4561.99 \n",
      "   1    |  8600   |   0.144790   |     -      |     -     |  4670.64 \n",
      "   1    |  8800   |   0.143695   |     -      |     -     |  4779.55 \n",
      "   1    |  8965   |   0.142590   |     -      |     -     |  4869.16 \n",
      "----------------------------------------------------------------------\n",
      "   1    |    -    |   0.142590   |  0.087232  |   97.94   |  5005.07 \n",
      "----------------------------------------------------------------------\n",
      "\n",
      "\n",
      " Epoch  |  Batch  |  Train Loss  |  Val Loss  |  Val Acc  |  Elapsed \n",
      "----------------------------------------------------------------------\n"
     ]
    },
    {
     "data": {
      "application/vnd.jupyter.widget-view+json": {
       "model_id": "124e4edd824f4e9ab26c80ade2a98f38",
       "version_major": 2,
       "version_minor": 0
      },
      "text/plain": [
       "  0%|          | 0/8966 [00:00<?, ?it/s]"
      ]
     },
     "metadata": {},
     "output_type": "display_data"
    },
    {
     "name": "stdout",
     "output_type": "stream",
     "text": [
      "   2    |   200   |   0.066847   |     -      |     -     |  109.25  \n",
      "   2    |   400   |   0.060000   |     -      |     -     |  217.65  \n",
      "   2    |   600   |   0.056459   |     -      |     -     |  326.16  \n",
      "   2    |   800   |   0.060480   |     -      |     -     |  434.58  \n",
      "   2    |  1000   |   0.056806   |     -      |     -     |  543.29  \n",
      "   2    |  1200   |   0.056993   |     -      |     -     |  651.79  \n",
      "   2    |  1400   |   0.055192   |     -      |     -     |  760.17  \n",
      "   2    |  1600   |   0.054756   |     -      |     -     |  868.55  \n",
      "   2    |  1800   |   0.055653   |     -      |     -     |  976.96  \n",
      "   2    |  2000   |   0.054245   |     -      |     -     |  1086.43 \n",
      "   2    |  2200   |   0.053706   |     -      |     -     |  1195.58 \n",
      "   2    |  2400   |   0.054372   |     -      |     -     |  1303.79 \n",
      "   2    |  2600   |   0.053764   |     -      |     -     |  1412.23 \n",
      "   2    |  2800   |   0.052802   |     -      |     -     |  1520.49 \n",
      "   2    |  3000   |   0.053673   |     -      |     -     |  1628.45 \n",
      "   2    |  3200   |   0.054472   |     -      |     -     |  1736.88 \n",
      "   2    |  3400   |   0.054698   |     -      |     -     |  1845.11 \n",
      "   2    |  3600   |   0.054165   |     -      |     -     |  1953.03 \n",
      "   2    |  3800   |   0.053163   |     -      |     -     |  2061.99 \n",
      "   2    |  4000   |   0.053405   |     -      |     -     |  2170.87 \n",
      "   2    |  4200   |   0.052902   |     -      |     -     |  2279.77 \n",
      "   2    |  4400   |   0.052091   |     -      |     -     |  2388.81 \n",
      "   2    |  4600   |   0.051875   |     -      |     -     |  2497.48 \n",
      "   2    |  4800   |   0.051660   |     -      |     -     |  2606.29 \n",
      "   2    |  5000   |   0.050869   |     -      |     -     |  2714.95 \n",
      "   2    |  5200   |   0.050548   |     -      |     -     |  2823.93 \n",
      "   2    |  5400   |   0.050027   |     -      |     -     |  2932.63 \n",
      "   2    |  5600   |   0.049844   |     -      |     -     |  3041.49 \n",
      "   2    |  5800   |   0.049730   |     -      |     -     |  3150.33 \n",
      "   2    |  6000   |   0.049561   |     -      |     -     |  3259.10 \n",
      "   2    |  6200   |   0.048927   |     -      |     -     |  3368.03 \n",
      "   2    |  6400   |   0.048898   |     -      |     -     |  3476.99 \n",
      "   2    |  6600   |   0.048532   |     -      |     -     |  3585.60 \n",
      "   2    |  6800   |   0.048203   |     -      |     -     |  3692.29 \n",
      "   2    |  7000   |   0.048009   |     -      |     -     |  3799.21 \n",
      "   2    |  7200   |   0.047788   |     -      |     -     |  3906.04 \n",
      "   2    |  7400   |   0.047646   |     -      |     -     |  4013.86 \n",
      "   2    |  7600   |   0.047477   |     -      |     -     |  4121.72 \n",
      "   2    |  7800   |   0.047322   |     -      |     -     |  4230.46 \n",
      "   2    |  8000   |   0.047127   |     -      |     -     |  4339.24 \n",
      "   2    |  8200   |   0.046982   |     -      |     -     |  4447.98 \n",
      "   2    |  8400   |   0.046882   |     -      |     -     |  4556.95 \n",
      "   2    |  8600   |   0.046740   |     -      |     -     |  4665.82 \n",
      "   2    |  8800   |   0.046381   |     -      |     -     |  4774.63 \n",
      "   2    |  8965   |   0.045984   |     -      |     -     |  4863.97 \n",
      "----------------------------------------------------------------------\n",
      "   2    |    -    |   0.045984   |  0.070843  |   98.50   |  4999.67 \n",
      "----------------------------------------------------------------------\n",
      "\n",
      "\n",
      "Training complete!\n"
     ]
    }
   ],
   "source": [
    "MODEL_NAME = \"bert-base-uncased\"\n",
    "HIDDEN_LAYER_SIZE = 768\n",
    "MODEL_SAVE_PATH = MODEL_PATH_ROOT + '-' + MODEL_NAME + '.pt'\n",
    "\n",
    "train_dataloader, val_dataloader, y_val = get_data_loaders(df, MODEL_NAME)\n",
    "\n",
    "set_seed(42)    # Set seed for reproducibility\n",
    "bert_classifier, optimizer, scheduler = initialize_model(MODEL_NAME, HIDDEN_LAYER_SIZE, epochs=2)\n",
    "train(bert_classifier, train_dataloader, val_dataloader, epochs=2, evaluation=True)"
   ]
  },
  {
   "cell_type": "markdown",
   "id": "ecd1cb88-3f03-4559-89d0-0484dfecebab",
   "metadata": {},
   "source": [
    "#### Evaluation"
   ]
  },
  {
   "cell_type": "code",
   "execution_count": 239,
   "id": "c4793a15-d1b3-486b-97ff-83c34bf7bfe6",
   "metadata": {},
   "outputs": [
    {
     "data": {
      "image/png": "[encoded data removed]",
      "text/plain": [
       "<Figure size 500x400 with 2 Axes>"
      ]
     },
     "metadata": {},
     "output_type": "display_data"
    },
    {
     "name": "stdout",
     "output_type": "stream",
     "text": [
      "   Label     | Precision  |    Recall    |   Fscore  \n",
      "-------------------------------------------------------\n",
      "  Negative   |   0.9805   |    0.9860    |   0.9832  \n",
      "  Neutral    |   0.9891   |    0.9791    |   0.9841  \n",
      "  Positive   |   0.9847   |    0.9894    |   0.9870  \n",
      "-------------------------------------------------------\n",
      "Accuracy: 98.50%\n"
     ]
    }
   ],
   "source": [
    "y_pred = model_predict(bert_classifier, val_dataloader)\n",
    "display_confusion_matrix(y_pred, y_val)\n",
    "\n",
    "# Evaluate the classifier\n",
    "precision, recall, fscore, support = score(y_val, y_pred)\n",
    "\n",
    "print(f\"{'Label':^12} | {'Precision':^10} | {'Recall':^12} | {'Fscore':^10}\")\n",
    "print(\"-\"*55)\n",
    "sentiments = ['Negative', 'Neutral', 'Positive']\n",
    "\n",
    "for i in range(len(precision)):\n",
    "    print(f\"{sentiments[i]:^12} | {precision[i]:^10.4f} | {recall[i]:^12.4f} | {fscore[i]:^10.4f}\")\n",
    "print(\"-\"*55)\n",
    "print(f'Accuracy: {accuracy_score(y_pred, y_val)*100:.2f}%')"
   ]
  },
  {
   "cell_type": "markdown",
   "id": "e2db25f1-e95d-4cae-9a1b-552754ceebe9",
   "metadata": {
    "jp-MarkdownHeadingCollapsed": true
   },
   "source": [
    "### RoBERTa (unbalanced-class)"
   ]
  },
  {
   "cell_type": "code",
   "execution_count": 142,
   "id": "44549d89-5c9c-4881-ad94-a97414d37cb7",
   "metadata": {},
   "outputs": [],
   "source": [
    "MODEL_NAME = \"roberta-base\"\n",
    "HIDDEN_LAYER_SIZE = 768\n",
    "MODEL_SAVE_PATH = MODEL_PATH_ROOT + '-' + MODEL_NAME + '.pt'\n",
    "\n",
    "train_dataloader, val_dataloader, y_val = get_data_loaders(df, MODEL_NAME)\n",
    "\n",
    "set_seed(42)    # Set seed for reproducibility\n",
    "roberta_classifier, optimizer, scheduler = initialize_model(MODEL_NAME, HIDDEN_LAYER_SIZE, epochs=2)\n",
    "train(roberta_classifier, train_dataloader, val_dataloader, epochs=2, evaluation=True)"
   ]
  },
  {
   "cell_type": "markdown",
   "id": "e9a8416a-2301-4c66-ae1e-7afda31300aa",
   "metadata": {},
   "source": [
    "#### Prediction"
   ]
  },
  {
   "cell_type": "code",
   "execution_count": 37,
   "id": "2520518f-4fd1-4f97-8ae3-24c676adacae",
   "metadata": {},
   "outputs": [
    {
     "name": "stdout",
     "output_type": "stream",
     "text": [
      "Accuracy: 98.67%\n"
     ]
    }
   ],
   "source": [
    "y_pred = model_predict(roberta_classifier, val_dataloader)\n",
    "display_confusion_matrix(y_pred, y_val)\n",
    "\n",
    "# Evaluate the classifier\n",
    "print(f'Accuracy: {accuracy_score(y_pred, y_val)*100:.2f}%')"
   ]
  },
  {
   "cell_type": "markdown",
   "id": "72cf6baf-f111-43d3-a4b9-e8af117aacde",
   "metadata": {},
   "source": [
    "#### r/apple & r/android"
   ]
  },
  {
   "cell_type": "code",
   "execution_count": 72,
   "id": "e240db37-6d63-4d6d-a10d-aacc14351752",
   "metadata": {},
   "outputs": [],
   "source": [
    "android_df = pd.read_csv('android_submissions.csv')\n",
    "apple_df = pd.read_csv('apple_submissions.csv')"
   ]
  },
  {
   "cell_type": "code",
   "execution_count": 76,
   "id": "299cbff7-fbb2-443e-a248-382756c2d713",
   "metadata": {},
   "outputs": [],
   "source": [
    "dtypes = {\n",
    "  \"title\": \"string\",\n",
    "  \"created_utc\": np.int64,\n",
    "}\n",
    "android_df = android_df.astype(dtypes)\n",
    "apple_df = apple_df.astype(dtypes)\n",
    "apple_df['date'] = apple_df['created_utc'].apply(lambda x : datetime.utcfromtimestamp(x).strftime(\"%m/%d/%y\"))\n",
    "android_df['date'] = android_df['created_utc'].apply(lambda x : datetime.utcfromtimestamp(x).strftime(\"%m/%d/%y\"))"
   ]
  },
  {
   "cell_type": "code",
   "execution_count": 82,
   "id": "b552df45-509a-4152-bbaa-48ae76112c83",
   "metadata": {},
   "outputs": [
    {
     "data": {
      "text/html": [
       "<div>\n",
       "<style scoped>\n",
       "    .dataframe tbody tr th:only-of-type {\n",
       "        vertical-align: middle;\n",
       "    }\n",
       "\n",
       "    .dataframe tbody tr th {\n",
       "        vertical-align: top;\n",
       "    }\n",
       "\n",
       "    .dataframe thead th {\n",
       "        text-align: right;\n",
       "    }\n",
       "</style>\n",
       "<table border=\"1\" class=\"dataframe\">\n",
       "  <thead>\n",
       "    <tr style=\"text-align: right;\">\n",
       "      <th></th>\n",
       "      <th>title</th>\n",
       "      <th>created_utc</th>\n",
       "      <th>date</th>\n",
       "    </tr>\n",
       "  </thead>\n",
       "  <tbody>\n",
       "    <tr>\n",
       "      <th>0</th>\n",
       "      <td>G1 will be the phone from T-Mobile</td>\n",
       "      <td>1219865042</td>\n",
       "      <td>08/27/08</td>\n",
       "    </tr>\n",
       "    <tr>\n",
       "      <th>1</th>\n",
       "      <td>Are These the Preloaded Apps for G1?</td>\n",
       "      <td>1219934322</td>\n",
       "      <td>08/28/08</td>\n",
       "    </tr>\n",
       "    <tr>\n",
       "      <th>2</th>\n",
       "      <td>Engadget      * Engadget  Search      * RSS Fe...</td>\n",
       "      <td>1220364251</td>\n",
       "      <td>09/02/08</td>\n",
       "    </tr>\n",
       "    <tr>\n",
       "      <th>3</th>\n",
       "      <td>HTC's Android-driven Dream revealed in gloriou...</td>\n",
       "      <td>1220364283</td>\n",
       "      <td>09/02/08</td>\n",
       "    </tr>\n",
       "    <tr>\n",
       "      <th>4</th>\n",
       "      <td>Google names Android Developer Challenge winners</td>\n",
       "      <td>1220367335</td>\n",
       "      <td>09/02/08</td>\n",
       "    </tr>\n",
       "    <tr>\n",
       "      <th>...</th>\n",
       "      <td>...</td>\n",
       "      <td>...</td>\n",
       "      <td>...</td>\n",
       "    </tr>\n",
       "    <tr>\n",
       "      <th>761836</th>\n",
       "      <td>I need help with my redmi 10</td>\n",
       "      <td>1672527114</td>\n",
       "      <td>12/31/22</td>\n",
       "    </tr>\n",
       "    <tr>\n",
       "      <th>761837</th>\n",
       "      <td>Why do companies release android phones with p...</td>\n",
       "      <td>1672528547</td>\n",
       "      <td>12/31/22</td>\n",
       "    </tr>\n",
       "    <tr>\n",
       "      <th>761838</th>\n",
       "      <td>Oppo Find N2 Review: A Foldable With Wide Appeal</td>\n",
       "      <td>1672528727</td>\n",
       "      <td>12/31/22</td>\n",
       "    </tr>\n",
       "    <tr>\n",
       "      <th>761839</th>\n",
       "      <td>Your Memories. Their Cloud. - The New York Times</td>\n",
       "      <td>1672529115</td>\n",
       "      <td>12/31/22</td>\n",
       "    </tr>\n",
       "    <tr>\n",
       "      <th>761840</th>\n",
       "      <td>Has anybody ever upgraded the storage on a phone?</td>\n",
       "      <td>1672530377</td>\n",
       "      <td>12/31/22</td>\n",
       "    </tr>\n",
       "  </tbody>\n",
       "</table>\n",
       "<p>761841 rows × 3 columns</p>\n",
       "</div>"
      ],
      "text/plain": [
       "                                                    title  created_utc  \\\n",
       "0                      G1 will be the phone from T-Mobile   1219865042   \n",
       "1                    Are These the Preloaded Apps for G1?   1219934322   \n",
       "2       Engadget      * Engadget  Search      * RSS Fe...   1220364251   \n",
       "3       HTC's Android-driven Dream revealed in gloriou...   1220364283   \n",
       "4        Google names Android Developer Challenge winners   1220367335   \n",
       "...                                                   ...          ...   \n",
       "761836                       I need help with my redmi 10   1672527114   \n",
       "761837  Why do companies release android phones with p...   1672528547   \n",
       "761838   Oppo Find N2 Review: A Foldable With Wide Appeal   1672528727   \n",
       "761839   Your Memories. Their Cloud. - The New York Times   1672529115   \n",
       "761840  Has anybody ever upgraded the storage on a phone?   1672530377   \n",
       "\n",
       "            date  \n",
       "0       08/27/08  \n",
       "1       08/28/08  \n",
       "2       09/02/08  \n",
       "3       09/02/08  \n",
       "4       09/02/08  \n",
       "...          ...  \n",
       "761836  12/31/22  \n",
       "761837  12/31/22  \n",
       "761838  12/31/22  \n",
       "761839  12/31/22  \n",
       "761840  12/31/22  \n",
       "\n",
       "[761841 rows x 3 columns]"
      ]
     },
     "execution_count": 82,
     "metadata": {},
     "output_type": "execute_result"
    }
   ],
   "source": [
    "android_df"
   ]
  },
  {
   "cell_type": "code",
   "execution_count": 85,
   "id": "ac3ca812-7615-48d4-958d-ebbfa7d8b9c3",
   "metadata": {},
   "outputs": [],
   "source": [
    "filtered_apple_df = apple_df[(apple_df['date'] >= '09/01/22') & (apple_df['date'] <= '09/30/22')]\n",
    "filtered_android_df = android_df[(android_df['date'] >= '09/01/22') & (android_df['date'] <= '09/30/22')]"
   ]
  },
  {
   "cell_type": "code",
   "execution_count": 87,
   "id": "29240fdb-1223-44ff-a5a1-a708cd989b89",
   "metadata": {},
   "outputs": [
    {
     "name": "stdout",
     "output_type": "stream",
     "text": [
      "# of testing samples in r/android for Sep'22 : 65713\n",
      "# of testing samples in r/apple for Sep'22 : 99563\n"
     ]
    }
   ],
   "source": [
    "print(f\"# of testing samples in r/android for Sep'22 : {len(filtered_android_df)}\")\n",
    "print(f\"# of testing samples in r/apple for Sep'22 : {len(filtered_apple_df)}\")"
   ]
  },
  {
   "cell_type": "code",
   "execution_count": 88,
   "id": "cafb51c3-220b-4aa1-9a45-8a76666463fa",
   "metadata": {},
   "outputs": [],
   "source": [
    "#Sampling 5000 posts randomly from both subreddits\n",
    "N_SAMPLES = 5000\n",
    "test_apple = filtered_apple_df.sample(N_SAMPLES)\n",
    "test_android = filtered_android_df.sample(N_SAMPLES)"
   ]
  },
  {
   "cell_type": "code",
   "execution_count": 89,
   "id": "57aa017f-3782-4232-8a0d-945d0e6a97c3",
   "metadata": {},
   "outputs": [
    {
     "name": "stdout",
     "output_type": "stream",
     "text": [
      "Tokenizing data...\n"
     ]
    }
   ],
   "source": [
    "# Run function `preprocessing_for_bert` on the train set and the validation set\n",
    "print('Tokenizing data...')\n",
    "test_inputs_apple, test_masks_apple = preprocessing_for_bert(test_apple.title)\n",
    "test_inputs_android, test_masks_android = preprocessing_for_bert(test_android.title)"
   ]
  },
  {
   "cell_type": "code",
   "execution_count": 90,
   "id": "94765227-8b77-40ed-81ce-2de8592f1ba2",
   "metadata": {},
   "outputs": [],
   "source": [
    "# Create the DataLoader for our testing set\n",
    "test_data_apple = TensorDataset(test_inputs_apple, test_masks_apple)\n",
    "test_sampler_apple = RandomSampler(test_data_apple)\n",
    "test_dataloader_apple = DataLoader(test_data_apple, sampler=test_sampler_apple, batch_size=32)"
   ]
  },
  {
   "cell_type": "code",
   "execution_count": 91,
   "id": "fa47ef2c-af92-408a-9e3d-c6a079b20e20",
   "metadata": {},
   "outputs": [],
   "source": [
    "# Create the DataLoader for our testing set\n",
    "test_data_android = TensorDataset(test_inputs_android, test_masks_android)\n",
    "test_sampler_android = RandomSampler(test_data_android)\n",
    "test_dataloader_android = DataLoader(test_data_android, sampler=test_sampler_android, batch_size=32)"
   ]
  },
  {
   "cell_type": "code",
   "execution_count": 92,
   "id": "8ce761ab-08a4-43fb-89a1-9ff453af58fb",
   "metadata": {},
   "outputs": [],
   "source": [
    "# Compute predicted labels on the test set\n",
    "y_preds_apple = bert_predict(bert_classifier, test_dataloader_apple)\n",
    "y_preds_android = bert_predict(bert_classifier, test_dataloader_android)"
   ]
  },
  {
   "cell_type": "code",
   "execution_count": 93,
   "id": "43bc3444-3596-4268-a5ef-a59f1995fa1c",
   "metadata": {},
   "outputs": [
    {
     "data": {
      "text/plain": [
       "(array([0, 1, 2]), array([ 814, 2984, 1202]))"
      ]
     },
     "execution_count": 93,
     "metadata": {},
     "output_type": "execute_result"
    }
   ],
   "source": [
    "np.unique(y_preds_apple, return_counts=True)"
   ]
  },
  {
   "cell_type": "code",
   "execution_count": 94,
   "id": "2ae4bad4-053f-416a-93c9-b617e476e365",
   "metadata": {},
   "outputs": [
    {
     "data": {
      "text/plain": [
       "(array([0, 1, 2]), array([ 674, 2849, 1477]))"
      ]
     },
     "execution_count": 94,
     "metadata": {},
     "output_type": "execute_result"
    }
   ],
   "source": [
    "np.unique(y_preds_android, return_counts=True)"
   ]
  },
  {
   "cell_type": "markdown",
   "id": "46d0cfc0-4f39-44c7-99f2-7d6086b5eaf8",
   "metadata": {},
   "source": [
    "## Modeling after handling class imbalance"
   ]
  },
  {
   "cell_type": "code",
   "execution_count": 31,
   "id": "3034c110-ded3-4f54-9856-fecca51c68d9",
   "metadata": {},
   "outputs": [],
   "source": [
    "MODEL_PATH_ROOT = 'reddit_sentiment_balanced'\n",
    "MAX_LEN = 256"
   ]
  },
  {
   "cell_type": "markdown",
   "id": "6bf9ed8a-f12f-4335-8254-7d9e08a0c41e",
   "metadata": {},
   "source": [
    "### Bert (balanced-class)"
   ]
  },
  {
   "cell_type": "markdown",
   "id": "97c1ec81-8a9a-468e-9fea-932f3b5d3ee3",
   "metadata": {},
   "source": [
    "#### Training"
   ]
  },
  {
   "cell_type": "code",
   "execution_count": 189,
   "id": "fea942f5-7ef0-410e-8d7d-f22dedfe9aed",
   "metadata": {
    "scrolled": true
   },
   "outputs": [
    {
     "name": "stdout",
     "output_type": "stream",
     "text": [
      "Tokenizing data...\n",
      "Start training with total batches 10585\n",
      "\n",
      " Epoch  |  Batch  |  Train Loss  |  Val Loss  |  Val Acc  |  Elapsed \n",
      "----------------------------------------------------------------------\n"
     ]
    },
    {
     "name": "stderr",
     "output_type": "stream",
     "text": [
      "/Users/adityatodi/miniforge3/envs/ds_proj/lib/python3.11/site-packages/transformers/optimization.py:411: FutureWarning: This implementation of AdamW is deprecated and will be removed in a future version. Use the PyTorch implementation torch.optim.AdamW instead, or set `no_deprecation_warning=True` to disable this warning\n",
      "  warnings.warn(\n"
     ]
    },
    {
     "data": {
      "application/vnd.jupyter.widget-view+json": {
       "model_id": "edf4a5b45dca436e9c9849ef2c2024b9",
       "version_major": 2,
       "version_minor": 0
      },
      "text/plain": [
       "  0%|          | 0/10585 [00:00<?, ?it/s]"
      ]
     },
     "metadata": {},
     "output_type": "display_data"
    },
    {
     "name": "stdout",
     "output_type": "stream",
     "text": [
      "   1    |   200   |   0.491189   |     -      |     -     |  108.06  \n",
      "   1    |   400   |   0.397905   |     -      |     -     |  215.09  \n",
      "   1    |   600   |   0.356859   |     -      |     -     |  322.94  \n",
      "   1    |   800   |   0.328866   |     -      |     -     |  430.58  \n",
      "   1    |  1000   |   0.307307   |     -      |     -     |  537.39  \n",
      "   1    |  1200   |   0.289740   |     -      |     -     |  643.88  \n",
      "   1    |  1400   |   0.276223   |     -      |     -     |  750.58  \n",
      "   1    |  1600   |   0.266688   |     -      |     -     |  857.02  \n",
      "   1    |  1800   |   0.255308   |     -      |     -     |  965.41  \n",
      "   1    |  2000   |   0.246335   |     -      |     -     |  1074.19 \n",
      "   1    |  2200   |   0.239063   |     -      |     -     |  1183.03 \n",
      "   1    |  2400   |   0.231107   |     -      |     -     |  1291.92 \n",
      "   1    |  2600   |   0.225215   |     -      |     -     |  1400.82 \n",
      "   1    |  2800   |   0.218289   |     -      |     -     |  1509.67 \n",
      "   1    |  3000   |   0.212106   |     -      |     -     |  1618.49 \n",
      "   1    |  3200   |   0.206314   |     -      |     -     |  1727.33 \n",
      "   1    |  3400   |   0.202090   |     -      |     -     |  1836.20 \n",
      "   1    |  3600   |   0.197618   |     -      |     -     |  1945.01 \n",
      "   1    |  3800   |   0.193619   |     -      |     -     |  2053.84 \n",
      "   1    |  4000   |   0.189880   |     -      |     -     |  2162.77 \n",
      "   1    |  4200   |   0.186491   |     -      |     -     |  2271.64 \n",
      "   1    |  4400   |   0.184131   |     -      |     -     |  2380.39 \n",
      "   1    |  4600   |   0.181104   |     -      |     -     |  2489.20 \n",
      "   1    |  4800   |   0.178941   |     -      |     -     |  2598.11 \n",
      "   1    |  5000   |   0.176335   |     -      |     -     |  2707.04 \n",
      "   1    |  5200   |   0.173932   |     -      |     -     |  2816.11 \n",
      "   1    |  5400   |   0.171142   |     -      |     -     |  2925.09 \n",
      "   1    |  5600   |   0.168833   |     -      |     -     |  3034.03 \n",
      "   1    |  5800   |   0.166530   |     -      |     -     |  3142.92 \n",
      "   1    |  6000   |   0.164136   |     -      |     -     |  3251.85 \n",
      "   1    |  6200   |   0.162355   |     -      |     -     |  3360.57 \n",
      "   1    |  6400   |   0.160406   |     -      |     -     |  3469.58 \n",
      "   1    |  6600   |   0.158582   |     -      |     -     |  3578.43 \n",
      "   1    |  6800   |   0.156756   |     -      |     -     |  3687.17 \n",
      "   1    |  7000   |   0.154748   |     -      |     -     |  3796.31 \n",
      "   1    |  7200   |   0.153059   |     -      |     -     |  3905.28 \n",
      "   1    |  7400   |   0.151475   |     -      |     -     |  4014.12 \n",
      "   1    |  7600   |   0.149613   |     -      |     -     |  4122.97 \n",
      "   1    |  7800   |   0.148193   |     -      |     -     |  4231.87 \n",
      "   1    |  8000   |   0.146558   |     -      |     -     |  4340.75 \n",
      "   1    |  8200   |   0.144799   |     -      |     -     |  4449.11 \n",
      "   1    |  8400   |   0.143258   |     -      |     -     |  4557.69 \n",
      "   1    |  8600   |   0.142071   |     -      |     -     |  4666.14 \n",
      "   1    |  8800   |   0.141067   |     -      |     -     |  4775.00 \n",
      "   1    |  9000   |   0.140316   |     -      |     -     |  4883.77 \n",
      "   1    |  9200   |   0.139282   |     -      |     -     |  4992.61 \n",
      "   1    |  9400   |   0.138060   |     -      |     -     |  5101.38 \n",
      "   1    |  9600   |   0.136528   |     -      |     -     |  5209.59 \n",
      "   1    |  9800   |   0.135523   |     -      |     -     |  5318.13 \n",
      "   1    |  10000  |   0.134148   |     -      |     -     |  5426.81 \n",
      "   1    |  10200  |   0.132554   |     -      |     -     |  5533.99 \n",
      "   1    |  10400  |   0.131349   |     -      |     -     |  5641.64 \n",
      "   1    |  10584  |   0.130440   |     -      |     -     |  5741.12 \n",
      "----------------------------------------------------------------------\n",
      "   1    |    -    |   0.130440   |  0.064262  |   98.48   |  5902.14 \n",
      "----------------------------------------------------------------------\n",
      "\n",
      "\n",
      " Epoch  |  Batch  |  Train Loss  |  Val Loss  |  Val Acc  |  Elapsed \n",
      "----------------------------------------------------------------------\n"
     ]
    },
    {
     "data": {
      "application/vnd.jupyter.widget-view+json": {
       "model_id": "3f23edc76a5b414690f48dd211ed0435",
       "version_major": 2,
       "version_minor": 0
      },
      "text/plain": [
       "  0%|          | 0/10585 [00:00<?, ?it/s]"
      ]
     },
     "metadata": {},
     "output_type": "display_data"
    },
    {
     "name": "stdout",
     "output_type": "stream",
     "text": [
      "   2    |   200   |   0.033337   |     -      |     -     |  108.88  \n",
      "   2    |   400   |   0.038504   |     -      |     -     |  217.47  \n",
      "   2    |   600   |   0.038572   |     -      |     -     |  325.97  \n",
      "   2    |   800   |   0.041558   |     -      |     -     |  434.78  \n",
      "   2    |  1000   |   0.041271   |     -      |     -     |  543.23  \n",
      "   2    |  1200   |   0.041965   |     -      |     -     |  652.45  \n",
      "   2    |  1400   |   0.044182   |     -      |     -     |  760.79  \n",
      "   2    |  1600   |   0.045785   |     -      |     -     |  869.30  \n",
      "   2    |  1800   |   0.046047   |     -      |     -     |  976.63  \n",
      "   2    |  2000   |   0.045700   |     -      |     -     |  1083.80 \n",
      "   2    |  2200   |   0.045578   |     -      |     -     |  1191.94 \n",
      "   2    |  2400   |   0.045807   |     -      |     -     |  1300.15 \n",
      "   2    |  2600   |   0.045861   |     -      |     -     |  1408.14 \n",
      "   2    |  2800   |   0.044603   |     -      |     -     |  1516.37 \n",
      "   2    |  3000   |   0.044979   |     -      |     -     |  1624.45 \n",
      "   2    |  3200   |   0.045398   |     -      |     -     |  1733.01 \n",
      "   2    |  3400   |   0.045078   |     -      |     -     |  1841.51 \n",
      "   2    |  3600   |   0.044695   |     -      |     -     |  1949.78 \n",
      "   2    |  3800   |   0.044265   |     -      |     -     |  2058.00 \n",
      "   2    |  4000   |   0.044328   |     -      |     -     |  2166.22 \n",
      "   2    |  4200   |   0.044295   |     -      |     -     |  2274.23 \n",
      "   2    |  4400   |   0.044147   |     -      |     -     |  2382.57 \n",
      "   2    |  4600   |   0.043708   |     -      |     -     |  2490.54 \n",
      "   2    |  4800   |   0.043658   |     -      |     -     |  2599.03 \n",
      "   2    |  5000   |   0.044210   |     -      |     -     |  2707.37 \n",
      "   2    |  5200   |   0.044048   |     -      |     -     |  2815.27 \n",
      "   2    |  5400   |   0.043776   |     -      |     -     |  2923.86 \n",
      "   2    |  5600   |   0.043746   |     -      |     -     |  3031.60 \n",
      "   2    |  5800   |   0.043881   |     -      |     -     |  3139.01 \n",
      "   2    |  6000   |   0.043630   |     -      |     -     |  3246.52 \n",
      "   2    |  6200   |   0.043610   |     -      |     -     |  3354.48 \n",
      "   2    |  6400   |   0.043570   |     -      |     -     |  3463.00 \n",
      "   2    |  6600   |   0.043090   |     -      |     -     |  3571.47 \n",
      "   2    |  6800   |   0.043249   |     -      |     -     |  3679.94 \n",
      "   2    |  7000   |   0.042848   |     -      |     -     |  3788.48 \n",
      "   2    |  7200   |   0.042870   |     -      |     -     |  3897.28 \n",
      "   2    |  7400   |   0.042753   |     -      |     -     |  4191.76 \n",
      "   2    |  7600   |   0.042692   |     -      |     -     |  4299.87 \n",
      "   2    |  7800   |   0.042553   |     -      |     -     |  4408.54 \n",
      "   2    |  8000   |   0.042520   |     -      |     -     |  4518.42 \n",
      "   2    |  8200   |   0.042312   |     -      |     -     |  4626.65 \n",
      "   2    |  8400   |   0.042178   |     -      |     -     |  4734.93 \n",
      "   2    |  8600   |   0.042066   |     -      |     -     |  4843.33 \n",
      "   2    |  8800   |   0.041999   |     -      |     -     |  4951.54 \n",
      "   2    |  9000   |   0.041885   |     -      |     -     |  5059.78 \n",
      "   2    |  9200   |   0.041806   |     -      |     -     |  5168.36 \n",
      "   2    |  9400   |   0.041440   |     -      |     -     |  5277.07 \n",
      "   2    |  9600   |   0.041058   |     -      |     -     |  5385.76 \n",
      "   2    |  9800   |   0.040875   |     -      |     -     |  5493.06 \n",
      "   2    |  10000  |   0.040689   |     -      |     -     |  5600.65 \n",
      "   2    |  10200  |   0.040394   |     -      |     -     |  5708.40 \n",
      "   2    |  10400  |   0.040314   |     -      |     -     |  5816.01 \n",
      "   2    |  10584  |   0.040197   |     -      |     -     |  5914.27 \n",
      "----------------------------------------------------------------------\n",
      "   2    |    -    |   0.040197   |  0.056252  |   98.90   |  6074.97 \n",
      "----------------------------------------------------------------------\n",
      "\n",
      "\n",
      "Training complete!\n"
     ]
    }
   ],
   "source": [
    "MODEL_NAME = \"bert-base-uncased\"\n",
    "HIDDEN_LAYER_SIZE = 768\n",
    "MODEL_SAVE_PATH = MODEL_PATH_ROOT + '-' + MODEL_NAME + '.pt'\n",
    "\n",
    "train_dataloader, val_dataloader, y_val = get_data_loaders(df_balanced, MODEL_NAME)\n",
    "\n",
    "set_seed(42)    # Set seed for reproducibility\n",
    "bert_classifier_balanced, optimizer, scheduler = initialize_model(MODEL_NAME, HIDDEN_LAYER_SIZE, epochs=2)\n",
    "train(bert_classifier_balanced, train_dataloader, val_dataloader, epochs=2, evaluation=True)"
   ]
  },
  {
   "cell_type": "markdown",
   "id": "fbc8383d-ca18-4a83-950f-e6ee35fe48b7",
   "metadata": {
    "jp-MarkdownHeadingCollapsed": true
   },
   "source": [
    "#### Loading Model"
   ]
  },
  {
   "cell_type": "code",
   "execution_count": 39,
   "id": "32ba04dd-4e68-49a3-82d3-6d6525cac2e0",
   "metadata": {},
   "outputs": [
    {
     "name": "stdout",
     "output_type": "stream",
     "text": [
      "Tokenizing data...\n"
     ]
    },
    {
     "data": {
      "text/plain": [
       "Classifier(\n",
       "  (model): BertModel(\n",
       "    (embeddings): BertEmbeddings(\n",
       "      (word_embeddings): Embedding(30522, 768, padding_idx=0)\n",
       "      (position_embeddings): Embedding(512, 768)\n",
       "      (token_type_embeddings): Embedding(2, 768)\n",
       "      (LayerNorm): LayerNorm((768,), eps=1e-12, elementwise_affine=True)\n",
       "      (dropout): Dropout(p=0.1, inplace=False)\n",
       "    )\n",
       "    (encoder): BertEncoder(\n",
       "      (layer): ModuleList(\n",
       "        (0-11): 12 x BertLayer(\n",
       "          (attention): BertAttention(\n",
       "            (self): BertSelfAttention(\n",
       "              (query): Linear(in_features=768, out_features=768, bias=True)\n",
       "              (key): Linear(in_features=768, out_features=768, bias=True)\n",
       "              (value): Linear(in_features=768, out_features=768, bias=True)\n",
       "              (dropout): Dropout(p=0.1, inplace=False)\n",
       "            )\n",
       "            (output): BertSelfOutput(\n",
       "              (dense): Linear(in_features=768, out_features=768, bias=True)\n",
       "              (LayerNorm): LayerNorm((768,), eps=1e-12, elementwise_affine=True)\n",
       "              (dropout): Dropout(p=0.1, inplace=False)\n",
       "            )\n",
       "          )\n",
       "          (intermediate): BertIntermediate(\n",
       "            (dense): Linear(in_features=768, out_features=3072, bias=True)\n",
       "            (intermediate_act_fn): GELUActivation()\n",
       "          )\n",
       "          (output): BertOutput(\n",
       "            (dense): Linear(in_features=3072, out_features=768, bias=True)\n",
       "            (LayerNorm): LayerNorm((768,), eps=1e-12, elementwise_affine=True)\n",
       "            (dropout): Dropout(p=0.1, inplace=False)\n",
       "          )\n",
       "        )\n",
       "      )\n",
       "    )\n",
       "    (pooler): BertPooler(\n",
       "      (dense): Linear(in_features=768, out_features=768, bias=True)\n",
       "      (activation): Tanh()\n",
       "    )\n",
       "  )\n",
       "  (classifier): Sequential(\n",
       "    (0): Linear(in_features=768, out_features=50, bias=True)\n",
       "    (1): ReLU()\n",
       "    (2): Linear(in_features=50, out_features=3, bias=True)\n",
       "  )\n",
       ")"
      ]
     },
     "execution_count": 39,
     "metadata": {},
     "output_type": "execute_result"
    }
   ],
   "source": [
    "MODEL_NAME = \"bert-base-uncased\"\n",
    "HIDDEN_LAYER_SIZE = 768\n",
    "MODEL_SAVE_PATH = MODEL_PATH_ROOT + '-' + MODEL_NAME + '.pt'\n",
    "\n",
    "train_dataloader, val_dataloader, y_val = get_data_loaders(df_balanced, MODEL_NAME)\n",
    "bert_classifier_balanced = Classifier(MODEL_NAME, HIDDEN_LAYER_SIZE, freeze_model=False)\n",
    "\n",
    "bert_classifier_balanced.load_state_dict(torch.load(MODEL_SAVE_PATH))\n",
    "bert_classifier_balanced.eval()\n",
    "bert_classifier_balanced.to(device)"
   ]
  },
  {
   "cell_type": "markdown",
   "id": "d8500460-cd1f-4b68-a07a-9f5bd554b24f",
   "metadata": {},
   "source": [
    "#### Evaluation"
   ]
  },
  {
   "cell_type": "code",
   "execution_count": 40,
   "id": "8bababb3-6880-4eaa-aa5c-581846d11309",
   "metadata": {},
   "outputs": [
    {
     "data": {
      "image/png": "[encoded data removed]",
      "text/plain": [
       "<Figure size 500x400 with 2 Axes>"
      ]
     },
     "metadata": {},
     "output_type": "display_data"
    },
    {
     "name": "stdout",
     "output_type": "stream",
     "text": [
      "   Label     | Precision  |    Recall    |   Fscore  \n",
      "-------------------------------------------------------\n",
      "  Negative   |   0.9928   |    0.9974    |   0.9951  \n",
      "  Neutral    |   0.9965   |    0.9895    |   0.9930  \n",
      "  Positive   |   0.9949   |    0.9973    |   0.9961  \n",
      "-------------------------------------------------------\n",
      "Accuracy: 99.47%\n"
     ]
    }
   ],
   "source": [
    "y_pred = model_predict(bert_classifier_balanced, val_dataloader)\n",
    "display_confusion_matrix(y_pred, y_val)\n",
    "\n",
    "# Evaluate the classifier\n",
    "precision, recall, fscore, support = score(y_val, y_pred)\n",
    "\n",
    "print(f\"{'Label':^12} | {'Precision':^10} | {'Recall':^12} | {'Fscore':^10}\")\n",
    "print(\"-\"*55)\n",
    "sentiments = ['Negative', 'Neutral', 'Positive']\n",
    "\n",
    "for i in range(len(precision)):\n",
    "    print(f\"{sentiments[i]:^12} | {precision[i]:^10.4f} | {recall[i]:^12.4f} | {fscore[i]:^10.4f}\")\n",
    "\n",
    "print(\"-\"*55)\n",
    "print(f'Accuracy: {accuracy_score(y_pred, y_val)*100:.2f}%')"
   ]
  },
  {
   "cell_type": "markdown",
   "id": "ff1e13e4-d8dd-48db-be7b-c0dd475a16a7",
   "metadata": {},
   "source": [
    "### RoBERTa (balanced-class)"
   ]
  },
  {
   "cell_type": "markdown",
   "id": "357ac8b2-99bd-487c-ab6c-9c600e848eaa",
   "metadata": {
    "jp-MarkdownHeadingCollapsed": true
   },
   "source": [
    "#### Training"
   ]
  },
  {
   "cell_type": "code",
   "execution_count": 41,
   "id": "23c37378-ad76-4f9c-99f7-7a55ba60a17e",
   "metadata": {},
   "outputs": [
    {
     "name": "stdout",
     "output_type": "stream",
     "text": [
      "Tokenizing data...\n"
     ]
    },
    {
     "name": "stderr",
     "output_type": "stream",
     "text": [
      "Some weights of RobertaModel were not initialized from the model checkpoint at roberta-base and are newly initialized: ['roberta.pooler.dense.weight', 'roberta.pooler.dense.bias']\n",
      "You should probably TRAIN this model on a down-stream task to be able to use it for predictions and inference.\n"
     ]
    },
    {
     "name": "stdout",
     "output_type": "stream",
     "text": [
      "Start training with total batches 10585\n",
      "\n",
      " Epoch  |  Batch  |  Train Loss  |  Val Loss  |  Val Acc  |  Elapsed \n",
      "----------------------------------------------------------------------\n"
     ]
    },
    {
     "name": "stderr",
     "output_type": "stream",
     "text": [
      "/Users/adityatodi/miniforge3/envs/ds_proj/lib/python3.11/site-packages/transformers/optimization.py:411: FutureWarning: This implementation of AdamW is deprecated and will be removed in a future version. Use the PyTorch implementation torch.optim.AdamW instead, or set `no_deprecation_warning=True` to disable this warning\n",
      "  warnings.warn(\n"
     ]
    },
    {
     "data": {
      "application/vnd.jupyter.widget-view+json": {
       "model_id": "a70a0c0f3bda4b85bc87d7ce3aeb0e82",
       "version_major": 2,
       "version_minor": 0
      },
      "text/plain": [
       "  0%|          | 0/10585 [00:00<?, ?it/s]"
      ]
     },
     "metadata": {},
     "output_type": "display_data"
    },
    {
     "name": "stdout",
     "output_type": "stream",
     "text": [
      "   1    |   200   |   0.583079   |     -      |     -     |  109.27  \n",
      "   1    |   400   |   0.495341   |     -      |     -     |  217.57  \n",
      "   1    |   600   |   0.450253   |     -      |     -     |  330.36  \n",
      "   1    |   800   |   0.421474   |     -      |     -     |  437.11  \n",
      "   1    |  1000   |   0.397509   |     -      |     -     |  542.82  \n",
      "   1    |  1200   |   0.380950   |     -      |     -     |  649.71  \n",
      "   1    |  1400   |   0.363245   |     -      |     -     |  757.12  \n",
      "   1    |  1600   |   0.349718   |     -      |     -     |  871.63  \n",
      "   1    |  1800   |   0.337802   |     -      |     -     |  980.04  \n",
      "   1    |  2000   |   0.326831   |     -      |     -     |  1088.36 \n",
      "   1    |  2200   |   0.319186   |     -      |     -     |  1196.43 \n",
      "   1    |  2400   |   0.311663   |     -      |     -     |  1304.81 \n",
      "   1    |  2600   |   0.304148   |     -      |     -     |  1413.68 \n",
      "   1    |  2800   |   0.297660   |     -      |     -     |  1522.45 \n",
      "   1    |  3000   |   0.291405   |     -      |     -     |  1631.57 \n",
      "   1    |  3200   |   0.286788   |     -      |     -     |  1740.64 \n",
      "   1    |  3400   |   0.281685   |     -      |     -     |  1849.28 \n",
      "   1    |  3600   |   0.279261   |     -      |     -     |  1958.05 \n",
      "   1    |  3800   |   0.274250   |     -      |     -     |  2066.96 \n",
      "   1    |  4000   |   0.271003   |     -      |     -     |  2175.77 \n",
      "   1    |  4200   |   0.267040   |     -      |     -     |  2284.52 \n",
      "   1    |  4400   |   0.262414   |     -      |     -     |  2392.85 \n",
      "   1    |  4600   |   0.258395   |     -      |     -     |  2500.81 \n",
      "   1    |  4800   |   0.255171   |     -      |     -     |  2608.68 \n",
      "   1    |  5000   |   0.251644   |     -      |     -     |  2716.56 \n",
      "   1    |  5200   |   0.248155   |     -      |     -     |  2825.49 \n",
      "   1    |  5400   |   0.244965   |     -      |     -     |  2934.46 \n",
      "   1    |  5600   |   0.241505   |     -      |     -     |  3043.58 \n",
      "   1    |  5800   |   0.239157   |     -      |     -     |  3152.50 \n",
      "   1    |  6000   |   0.236271   |     -      |     -     |  3261.73 \n",
      "   1    |  6200   |   0.233889   |     -      |     -     |  3370.46 \n",
      "   1    |  6400   |   0.231307   |     -      |     -     |  3479.63 \n",
      "   1    |  6600   |   0.228702   |     -      |     -     |  3588.92 \n",
      "   1    |  6800   |   0.226188   |     -      |     -     |  3698.10 \n",
      "   1    |  7000   |   0.224305   |     -      |     -     |  3806.77 \n",
      "   1    |  7200   |   0.221937   |     -      |     -     |  3915.89 \n",
      "   1    |  7400   |   0.219765   |     -      |     -     |  4025.06 \n",
      "   1    |  7600   |   0.217688   |     -      |     -     |  4133.89 \n",
      "   1    |  7800   |   0.215515   |     -      |     -     |  4242.47 \n",
      "   1    |  8000   |   0.213533   |     -      |     -     |  4351.25 \n",
      "   1    |  8200   |   0.211679   |     -      |     -     |  4460.37 \n",
      "   1    |  8400   |   0.209700   |     -      |     -     |  4569.18 \n",
      "   1    |  8600   |   0.208269   |     -      |     -     |  4678.21 \n",
      "   1    |  8800   |   0.206554   |     -      |     -     |  4786.74 \n",
      "   1    |  9000   |   0.205043   |     -      |     -     |  4895.38 \n",
      "   1    |  9200   |   0.203666   |     -      |     -     |  5003.83 \n",
      "   1    |  9400   |   0.202055   |     -      |     -     |  5112.59 \n",
      "   1    |  9600   |   0.200604   |     -      |     -     |  5220.98 \n",
      "   1    |  9800   |   0.199230   |     -      |     -     |  5329.62 \n",
      "   1    |  10000  |   0.197829   |     -      |     -     |  5438.02 \n",
      "   1    |  10200  |   0.196146   |     -      |     -     |  5546.94 \n",
      "   1    |  10400  |   0.194741   |     -      |     -     |  5655.60 \n",
      "   1    |  10584  |   0.193365   |     -      |     -     |  5755.23 \n",
      "----------------------------------------------------------------------\n",
      "   1    |    -    |   0.193365   |  0.141567  |   96.99   |  5942.04 \n",
      "----------------------------------------------------------------------\n",
      "\n",
      "\n",
      " Epoch  |  Batch  |  Train Loss  |  Val Loss  |  Val Acc  |  Elapsed \n",
      "----------------------------------------------------------------------\n"
     ]
    },
    {
     "data": {
      "application/vnd.jupyter.widget-view+json": {
       "model_id": "b894ae2f1ea2439bacc0e167dd90547a",
       "version_major": 2,
       "version_minor": 0
      },
      "text/plain": [
       "  0%|          | 0/10585 [00:00<?, ?it/s]"
      ]
     },
     "metadata": {},
     "output_type": "display_data"
    },
    {
     "name": "stdout",
     "output_type": "stream",
     "text": [
      "   2    |   200   |   0.085711   |     -      |     -     |  118.59  \n",
      "   2    |   400   |   0.085397   |     -      |     -     |  234.36  \n",
      "   2    |   600   |   0.086513   |     -      |     -     |  347.62  \n",
      "   2    |   800   |   0.082657   |     -      |     -     |  459.39  \n",
      "   2    |  1000   |   0.086590   |     -      |     -     |  571.22  \n",
      "   2    |  1200   |   0.087541   |     -      |     -     |  682.46  \n",
      "   2    |  1400   |   0.086043   |     -      |     -     |  793.36  \n",
      "   2    |  1600   |   0.087279   |     -      |     -     |  904.54  \n",
      "   2    |  1800   |   0.084508   |     -      |     -     |  1015.68 \n",
      "   2    |  2000   |   0.084636   |     -      |     -     |  1127.89 \n",
      "   2    |  2200   |   0.085086   |     -      |     -     |  1241.26 \n",
      "   2    |  2400   |   0.085136   |     -      |     -     |  1352.60 \n",
      "   2    |  2600   |   0.083824   |     -      |     -     |  1465.39 \n",
      "   2    |  2800   |   0.082773   |     -      |     -     |  1580.15 \n",
      "   2    |  3000   |   0.081867   |     -      |     -     |  1693.75 \n",
      "   2    |  3200   |   0.081956   |     -      |     -     |  1807.20 \n",
      "   2    |  3400   |   0.080575   |     -      |     -     |  1920.91 \n",
      "   2    |  3600   |   0.080392   |     -      |     -     |  2034.55 \n",
      "   2    |  3800   |   0.079898   |     -      |     -     |  2148.86 \n",
      "   2    |  4000   |   0.080593   |     -      |     -     |  2264.13 \n",
      "   2    |  4200   |   0.081159   |     -      |     -     |  2379.67 \n",
      "   2    |  4400   |   0.080943   |     -      |     -     |  2494.78 \n",
      "   2    |  4600   |   0.080648   |     -      |     -     |  2610.76 \n",
      "   2    |  4800   |   0.080803   |     -      |     -     |  2724.84 \n",
      "   2    |  5000   |   0.079936   |     -      |     -     |  2840.64 \n",
      "   2    |  5200   |   0.079467   |     -      |     -     |  2956.94 \n",
      "   2    |  5400   |   0.079597   |     -      |     -     |  3072.20 \n",
      "   2    |  5600   |   0.079223   |     -      |     -     |  3185.09 \n",
      "   2    |  5800   |   0.079125   |     -      |     -     |  3294.43 \n",
      "   2    |  6000   |   0.078756   |     -      |     -     |  3403.67 \n",
      "   2    |  6200   |   0.078568   |     -      |     -     |  3512.65 \n",
      "   2    |  6400   |   0.078371   |     -      |     -     |  3621.62 \n",
      "   2    |  6600   |   0.078157   |     -      |     -     |  3778.23 \n",
      "   2    |  6800   |   0.078173   |     -      |     -     |  4872.38 \n",
      "   2    |  7000   |   0.077515   |     -      |     -     |  4980.83 \n",
      "   2    |  7200   |   0.077384   |     -      |     -     |  5099.17 \n",
      "   2    |  7400   |   0.076942   |     -      |     -     |  5227.97 \n",
      "   2    |  7600   |   0.076596   |     -      |     -     |  5349.29 \n",
      "   2    |  7800   |   0.076505   |     -      |     -     |  5471.37 \n",
      "   2    |  8000   |   0.076142   |     -      |     -     |  5590.99 \n",
      "   2    |  8200   |   0.075791   |     -      |     -     |  5711.05 \n",
      "   2    |  8400   |   0.075585   |     -      |     -     |  5825.14 \n",
      "   2    |  8600   |   0.075167   |     -      |     -     |  5938.69 \n",
      "   2    |  8800   |   0.075007   |     -      |     -     |  6051.14 \n",
      "   2    |  9000   |   0.074577   |     -      |     -     |  6162.75 \n",
      "   2    |  9200   |   0.074174   |     -      |     -     |  6274.45 \n",
      "   2    |  9400   |   0.073776   |     -      |     -     |  6385.01 \n",
      "   2    |  9600   |   0.073764   |     -      |     -     |  6495.17 \n",
      "   2    |  9800   |   0.073490   |     -      |     -     |  6605.84 \n",
      "   2    |  10000  |   0.072957   |     -      |     -     |  6716.92 \n",
      "   2    |  10200  |   0.073039   |     -      |     -     |  6827.16 \n",
      "   2    |  10400  |   0.072778   |     -      |     -     |  6937.00 \n",
      "   2    |  10584  |   0.072352   |     -      |     -     |  7036.72 \n",
      "----------------------------------------------------------------------\n",
      "   2    |    -    |   0.072352   |  0.074931  |   98.57   |  7215.53 \n",
      "----------------------------------------------------------------------\n",
      "\n",
      "\n",
      "Training complete!\n"
     ]
    }
   ],
   "source": [
    "MODEL_NAME = \"roberta-base\"\n",
    "HIDDEN_LAYER_SIZE = 768\n",
    "MODEL_SAVE_PATH = MODEL_PATH_ROOT + '-' + MODEL_NAME + '.pt'\n",
    "\n",
    "train_dataloader, val_dataloader, y_val = get_data_loaders(df_balanced, MODEL_NAME)\n",
    "\n",
    "set_seed(42)    # Set seed for reproducibility\n",
    "roberta_classifier_balanced, optimizer, scheduler = initialize_model(MODEL_NAME, HIDDEN_LAYER_SIZE, epochs=2)\n",
    "train(roberta_classifier_balanced, train_dataloader, val_dataloader, epochs=2, evaluation=True)"
   ]
  },
  {
   "cell_type": "markdown",
   "id": "89bef4cc-c140-49e4-9670-41420d4743a6",
   "metadata": {},
   "source": [
    "#### Evaluation"
   ]
  },
  {
   "cell_type": "code",
   "execution_count": 42,
   "id": "f3b84fc1-afd8-4cf3-b939-26ce95704f95",
   "metadata": {},
   "outputs": [
    {
     "data": {
      "image/png": "[encoded data removed]",
      "text/plain": [
       "<Figure size 500x400 with 2 Axes>"
      ]
     },
     "metadata": {},
     "output_type": "display_data"
    },
    {
     "name": "stdout",
     "output_type": "stream",
     "text": [
      "   Label     | Precision  |    Recall    |   Fscore  \n",
      "-------------------------------------------------------\n",
      "  Negative   |   0.9843   |    0.9893    |   0.9868  \n",
      "  Neutral    |   0.9879   |    0.9800    |   0.9839  \n",
      "  Positive   |   0.9848   |    0.9875    |   0.9862  \n",
      "-------------------------------------------------------\n",
      "Accuracy: 98.57%\n"
     ]
    }
   ],
   "source": [
    "y_pred = model_predict(roberta_classifier_balanced, val_dataloader)\n",
    "display_confusion_matrix(y_pred, y_val)\n",
    "\n",
    "# Evaluate the classifier\n",
    "precision, recall, fscore, support = score(y_val, y_pred)\n",
    "\n",
    "print(f\"{'Label':^12} | {'Precision':^10} | {'Recall':^12} | {'Fscore':^10}\")\n",
    "print(\"-\"*55)\n",
    "sentiments = ['Negative', 'Neutral', 'Positive']\n",
    "\n",
    "for i in range(len(precision)):\n",
    "    print(f\"{sentiments[i]:^12} | {precision[i]:^10.4f} | {recall[i]:^12.4f} | {fscore[i]:^10.4f}\")\n",
    "\n",
    "print(\"-\"*55)\n",
    "print(f'Accuracy: {accuracy_score(y_pred, y_val)*100:.2f}%')"
   ]
  },
  {
   "cell_type": "code",
   "execution_count": null,
   "id": "c1f31dab-5b53-45e6-a523-b9fffa904dec",
   "metadata": {},
   "outputs": [],
   "source": []
  }
 ],
 "metadata": {
  "kernelspec": {
   "display_name": "Python 3 (ipykernel)",
   "language": "python",
   "name": "python3"
  },
  "language_info": {
   "codemirror_mode": {
    "name": "ipython",
    "version": 3
   },
   "file_extension": ".py",
   "mimetype": "text/x-python",
   "name": "python",
   "nbconvert_exporter": "python",
   "pygments_lexer": "ipython3",
   "version": "3.11.6"
  }
 },
 "nbformat": 4,
 "nbformat_minor": 5
}
